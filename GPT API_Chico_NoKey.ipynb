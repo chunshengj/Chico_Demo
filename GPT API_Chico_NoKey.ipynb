{
 "cells": [
  {
   "cell_type": "markdown",
   "id": "4a601043-593b-42ba-a280-1c1fe2488b57",
   "metadata": {
    "id": "4a601043-593b-42ba-a280-1c1fe2488b57"
   },
   "source": [
    "# Package Installation"
   ]
  },
  {
   "cell_type": "raw",
   "id": "55f8613c-2445-4674-b832-ce968480be7d",
   "metadata": {
    "id": "55f8613c-2445-4674-b832-ce968480be7d",
    "vscode": {
     "languageId": "raw"
    }
   },
   "source": [
    "!pip install openai\n",
    "!pip install pandas\n",
    "!pip install python-dotenv"
   ]
  },
  {
   "cell_type": "code",
   "execution_count": 2,
   "id": "13dd4e21",
   "metadata": {},
   "outputs": [],
   "source": [
    "import openai\n",
    "import pandas as pd\n",
    "import time\n",
    "from sklearn.metrics import classification_report, confusion_matrix\n",
    "import matplotlib.pyplot as plt\n",
    "import seaborn as sns\n",
    "%matplotlib inline"
   ]
  },
  {
   "cell_type": "code",
   "execution_count": 3,
   "id": "666d7763",
   "metadata": {},
   "outputs": [],
   "source": [
    "# Your API key\n",
    "openai.api_key = 'Your Key Here'"
   ]
  },
  {
   "cell_type": "code",
   "execution_count": 4,
   "id": "c8cdbd63",
   "metadata": {},
   "outputs": [],
   "source": [
    "# Define a function to get GPT responses\n",
    "def get_completion(prompt, model=\"gpt-4o-mini-2024-07-18\"):\n",
    "    messages = [{\"role\": \"user\", \"content\": prompt}]\n",
    "    response = openai.chat.completions.create(\n",
    "        model=model,\n",
    "        messages=messages,\n",
    "        temperature=0, # this is the degree of randomness of the model's output\n",
    "    )\n",
    "    return response.choices[0].message.content"
   ]
  },
  {
   "cell_type": "markdown",
   "id": "fb2984f2",
   "metadata": {},
   "source": [
    "# **LLMs for Business Analytics**\n",
    "\n",
    "## **1. Sentiment Analysis**\n",
    "- **Positive vs. Negative**\n",
    "\n",
    "### **How can sentiment analysis be used for business analytics?**\n",
    "- Identify consumer sentiment from online reviews on social media platforms (Twitter (X), Facebook, TripAdvisor)\n",
    "- Understand consumer satisfaction\n",
    "- Improve products and services\n",
    "- Manage brand reputation\n"
   ]
  },
  {
   "cell_type": "markdown",
   "id": "1c9786b8",
   "metadata": {},
   "source": [
    "#### Read in data\n",
    "Data: hotel reviews on TripAdvisor platform"
   ]
  },
  {
   "cell_type": "code",
   "execution_count": 5,
   "id": "0582981d",
   "metadata": {},
   "outputs": [],
   "source": [
    "df = pd.read_csv('/Users/sheng/Jupyter/Chico_Demo/all_reviews_info123_sentment_binary_GPT4_simple_FirstRun_WeightSRApproach_Reasonings_FinalResponse.csv', index_col=0)"
   ]
  },
  {
   "cell_type": "code",
   "execution_count": 6,
   "id": "d64155f2",
   "metadata": {},
   "outputs": [
    {
     "data": {
      "text/plain": [
       "(5408, 25)"
      ]
     },
     "execution_count": 6,
     "metadata": {},
     "output_type": "execute_result"
    }
   ],
   "source": [
    "df.shape"
   ]
  },
  {
   "cell_type": "code",
   "execution_count": 7,
   "id": "140c1677",
   "metadata": {},
   "outputs": [
    {
     "data": {
      "text/html": [
       "<div>\n",
       "<style scoped>\n",
       "    .dataframe tbody tr th:only-of-type {\n",
       "        vertical-align: middle;\n",
       "    }\n",
       "\n",
       "    .dataframe tbody tr th {\n",
       "        vertical-align: top;\n",
       "    }\n",
       "\n",
       "    .dataframe thead th {\n",
       "        text-align: right;\n",
       "    }\n",
       "</style>\n",
       "<table border=\"1\" class=\"dataframe\">\n",
       "  <thead>\n",
       "    <tr style=\"text-align: right;\">\n",
       "      <th></th>\n",
       "      <th>hotels</th>\n",
       "      <th>urls</th>\n",
       "      <th>reviewer_name</th>\n",
       "      <th>review_date</th>\n",
       "      <th>trip_type</th>\n",
       "      <th>stay_date</th>\n",
       "      <th>revewer_location</th>\n",
       "      <th>contribution</th>\n",
       "      <th>helpful</th>\n",
       "      <th>review_title</th>\n",
       "      <th>...</th>\n",
       "      <th>Reviewer_service</th>\n",
       "      <th>Reviewer_rooms</th>\n",
       "      <th>Reviewer_clean</th>\n",
       "      <th>Reviewer_sleep</th>\n",
       "      <th>responser</th>\n",
       "      <th>response_date</th>\n",
       "      <th>responser_text</th>\n",
       "      <th>sentiment_ground_truth</th>\n",
       "      <th>sent_GPT4_reasonings</th>\n",
       "      <th>sent_GPT4_Weighting</th>\n",
       "    </tr>\n",
       "  </thead>\n",
       "  <tbody>\n",
       "    <tr>\n",
       "      <th>0</th>\n",
       "      <td>Surety Hotel</td>\n",
       "      <td>https://www.tripadvisor.com/Hotel_Review-g3783...</td>\n",
       "      <td>Jodi307</td>\n",
       "      <td>Yesterday</td>\n",
       "      <td>Traveled as a couple</td>\n",
       "      <td>October 2022</td>\n",
       "      <td>Charlotte, North Carolina</td>\n",
       "      <td>512.0</td>\n",
       "      <td>138.0</td>\n",
       "      <td>Charming hotel!</td>\n",
       "      <td>...</td>\n",
       "      <td>NaN</td>\n",
       "      <td>NaN</td>\n",
       "      <td>NaN</td>\n",
       "      <td>NaN</td>\n",
       "      <td>NaN</td>\n",
       "      <td>NaN</td>\n",
       "      <td>NaN</td>\n",
       "      <td>positive</td>\n",
       "      <td>Step 1#### The review is overwhelmingly positi...</td>\n",
       "      <td>positive</td>\n",
       "    </tr>\n",
       "    <tr>\n",
       "      <th>1</th>\n",
       "      <td>Surety Hotel</td>\n",
       "      <td>https://www.tripadvisor.com/Hotel_Review-g3783...</td>\n",
       "      <td>Mark T</td>\n",
       "      <td>Jan 2021</td>\n",
       "      <td>NaN</td>\n",
       "      <td>December 2020</td>\n",
       "      <td>Manama, Bahrain</td>\n",
       "      <td>2.0</td>\n",
       "      <td>2.0</td>\n",
       "      <td>Excellent Downtown Hotel</td>\n",
       "      <td>...</td>\n",
       "      <td>5.0</td>\n",
       "      <td>5.0</td>\n",
       "      <td>5.0</td>\n",
       "      <td>5.0</td>\n",
       "      <td>Response from Zander Srodes, Guest Services / ...</td>\n",
       "      <td>Jan 11, 2021</td>\n",
       "      <td>Thank you for taking the time to spread the wo...</td>\n",
       "      <td>positive</td>\n",
       "      <td>Step 1#### The review mentions several positiv...</td>\n",
       "      <td>positive</td>\n",
       "    </tr>\n",
       "    <tr>\n",
       "      <th>2</th>\n",
       "      <td>Surety Hotel</td>\n",
       "      <td>https://www.tripadvisor.com/Hotel_Review-g3783...</td>\n",
       "      <td>Callie P</td>\n",
       "      <td>Oct 11</td>\n",
       "      <td>Traveled as a couple</td>\n",
       "      <td>October 2022</td>\n",
       "      <td>NaN</td>\n",
       "      <td>1.0</td>\n",
       "      <td>NaN</td>\n",
       "      <td>Beautiful corner suite!</td>\n",
       "      <td>...</td>\n",
       "      <td>NaN</td>\n",
       "      <td>NaN</td>\n",
       "      <td>NaN</td>\n",
       "      <td>NaN</td>\n",
       "      <td>Response from Allison Streu, General Manager a...</td>\n",
       "      <td>2 days ago</td>\n",
       "      <td>calliep61, congratulations!  We are so happy y...</td>\n",
       "      <td>positive</td>\n",
       "      <td>Step 1#### The review is overwhelmingly positi...</td>\n",
       "      <td>positive</td>\n",
       "    </tr>\n",
       "    <tr>\n",
       "      <th>3</th>\n",
       "      <td>Surety Hotel</td>\n",
       "      <td>https://www.tripadvisor.com/Hotel_Review-g3783...</td>\n",
       "      <td>492lori</td>\n",
       "      <td>Oct 11</td>\n",
       "      <td>Traveled with family</td>\n",
       "      <td>September 2022</td>\n",
       "      <td>Johnston, Iowa</td>\n",
       "      <td>NaN</td>\n",
       "      <td>NaN</td>\n",
       "      <td>Excellent venue for a wedding.</td>\n",
       "      <td>...</td>\n",
       "      <td>NaN</td>\n",
       "      <td>NaN</td>\n",
       "      <td>NaN</td>\n",
       "      <td>NaN</td>\n",
       "      <td>NaN</td>\n",
       "      <td>NaN</td>\n",
       "      <td>NaN</td>\n",
       "      <td>positive</td>\n",
       "      <td>Step 1#### The review text is overwhelmingly p...</td>\n",
       "      <td>positive</td>\n",
       "    </tr>\n",
       "    <tr>\n",
       "      <th>4</th>\n",
       "      <td>Surety Hotel</td>\n",
       "      <td>https://www.tripadvisor.com/Hotel_Review-g3783...</td>\n",
       "      <td>Brian T</td>\n",
       "      <td>Oct 11</td>\n",
       "      <td>NaN</td>\n",
       "      <td>October 2022</td>\n",
       "      <td>NaN</td>\n",
       "      <td>2.0</td>\n",
       "      <td>NaN</td>\n",
       "      <td>Average stay for the price</td>\n",
       "      <td>...</td>\n",
       "      <td>2.0</td>\n",
       "      <td>2.0</td>\n",
       "      <td>4.0</td>\n",
       "      <td>4.0</td>\n",
       "      <td>NaN</td>\n",
       "      <td>NaN</td>\n",
       "      <td>NaN</td>\n",
       "      <td>negative</td>\n",
       "      <td>Step 1#### The review mentions specific issues...</td>\n",
       "      <td>negative</td>\n",
       "    </tr>\n",
       "  </tbody>\n",
       "</table>\n",
       "<p>5 rows × 25 columns</p>\n",
       "</div>"
      ],
      "text/plain": [
       "         hotels                                               urls  \\\n",
       "0  Surety Hotel  https://www.tripadvisor.com/Hotel_Review-g3783...   \n",
       "1  Surety Hotel  https://www.tripadvisor.com/Hotel_Review-g3783...   \n",
       "2  Surety Hotel  https://www.tripadvisor.com/Hotel_Review-g3783...   \n",
       "3  Surety Hotel  https://www.tripadvisor.com/Hotel_Review-g3783...   \n",
       "4  Surety Hotel  https://www.tripadvisor.com/Hotel_Review-g3783...   \n",
       "\n",
       "  reviewer_name review_date             trip_type       stay_date  \\\n",
       "0       Jodi307   Yesterday  Traveled as a couple    October 2022   \n",
       "1        Mark T    Jan 2021                   NaN   December 2020   \n",
       "2      Callie P      Oct 11  Traveled as a couple    October 2022   \n",
       "3       492lori      Oct 11  Traveled with family  September 2022   \n",
       "4       Brian T      Oct 11                   NaN    October 2022   \n",
       "\n",
       "            revewer_location  contribution  helpful  \\\n",
       "0  Charlotte, North Carolina         512.0    138.0   \n",
       "1            Manama, Bahrain           2.0      2.0   \n",
       "2                        NaN           1.0      NaN   \n",
       "3             Johnston, Iowa           NaN      NaN   \n",
       "4                        NaN           2.0      NaN   \n",
       "\n",
       "                     review_title  ... Reviewer_service Reviewer_rooms  \\\n",
       "0                 Charming hotel!  ...              NaN            NaN   \n",
       "1        Excellent Downtown Hotel  ...              5.0            5.0   \n",
       "2         Beautiful corner suite!  ...              NaN            NaN   \n",
       "3  Excellent venue for a wedding.  ...              NaN            NaN   \n",
       "4      Average stay for the price  ...              2.0            2.0   \n",
       "\n",
       "   Reviewer_clean  Reviewer_sleep  \\\n",
       "0             NaN             NaN   \n",
       "1             5.0             5.0   \n",
       "2             NaN             NaN   \n",
       "3             NaN             NaN   \n",
       "4             4.0             4.0   \n",
       "\n",
       "                                           responser  response_date  \\\n",
       "0                                                NaN            NaN   \n",
       "1  Response from Zander Srodes, Guest Services / ...   Jan 11, 2021   \n",
       "2  Response from Allison Streu, General Manager a...     2 days ago   \n",
       "3                                                NaN            NaN   \n",
       "4                                                NaN            NaN   \n",
       "\n",
       "                                      responser_text  sentiment_ground_truth  \\\n",
       "0                                                NaN                positive   \n",
       "1  Thank you for taking the time to spread the wo...                positive   \n",
       "2  calliep61, congratulations!  We are so happy y...                positive   \n",
       "3                                                NaN                positive   \n",
       "4                                                NaN                negative   \n",
       "\n",
       "                                sent_GPT4_reasonings sent_GPT4_Weighting  \n",
       "0  Step 1#### The review is overwhelmingly positi...            positive  \n",
       "1  Step 1#### The review mentions several positiv...            positive  \n",
       "2  Step 1#### The review is overwhelmingly positi...            positive  \n",
       "3  Step 1#### The review text is overwhelmingly p...            positive  \n",
       "4  Step 1#### The review mentions specific issues...            negative  \n",
       "\n",
       "[5 rows x 25 columns]"
      ]
     },
     "execution_count": 7,
     "metadata": {},
     "output_type": "execute_result"
    }
   ],
   "source": [
    "df.head()"
   ]
  },
  {
   "cell_type": "markdown",
   "id": "f6908c33",
   "metadata": {},
   "source": [
    "### 1.1. Look at the first review of the dataset"
   ]
  },
  {
   "cell_type": "code",
   "execution_count": 8,
   "id": "52668a44",
   "metadata": {},
   "outputs": [
    {
     "data": {
      "text/plain": [
       "'What a classy and unique hotel! It’s been renovated with lots of character, the service was friendly and efficient, and the bed & pillows were wonderfully comfortable! It’s in easy walking distance to the Pappajohn Sculpture Park, which we enjoyed exploring. Great hotel!!'"
      ]
     },
     "execution_count": 8,
     "metadata": {},
     "output_type": "execute_result"
    }
   ],
   "source": [
    "df['reviewer_text'][0]"
   ]
  },
  {
   "cell_type": "code",
   "execution_count": 9,
   "id": "6cfd6aae",
   "metadata": {},
   "outputs": [],
   "source": [
    "hotel_review = df['reviewer_text'][0]"
   ]
  },
  {
   "cell_type": "code",
   "execution_count": 10,
   "id": "c3f295da",
   "metadata": {},
   "outputs": [
    {
     "name": "stdout",
     "output_type": "stream",
     "text": [
      "The sentiment of the hotel review is very positive. The reviewer expresses satisfaction with the hotel's character, service, comfort, and location, highlighting several positive aspects and concluding with an enthusiastic remark.\n"
     ]
    }
   ],
   "source": [
    "prompt = f\"\"\"\n",
    "What is the sentiment of the following hotel review, \n",
    "which is delimited with triple backticks?\n",
    "\n",
    "Review text: '''{hotel_review}'''\n",
    "\"\"\"\n",
    "response = get_completion(prompt)\n",
    "print(response)"
   ]
  },
  {
   "cell_type": "code",
   "execution_count": 11,
   "id": "db52f165",
   "metadata": {},
   "outputs": [
    {
     "name": "stdout",
     "output_type": "stream",
     "text": [
      "positive\n"
     ]
    }
   ],
   "source": [
    "prompt = f\"\"\"\n",
    "What is the sentiment of the following hotel review, \n",
    "which is delimited with triple backticks?\n",
    "\n",
    "Give your answer as a single word, either \"positive\" or \"negative\".\n",
    "\n",
    "Review text: '''{hotel_review}'''\n",
    "\"\"\"\n",
    "response = get_completion(prompt)\n",
    "print(response)"
   ]
  },
  {
   "cell_type": "markdown",
   "id": "6e58a61a",
   "metadata": {},
   "source": [
    "### 1.2. Sentiment analysis for multiple reviews using 'for loop' function\n",
    "- e.g., 10 reviews"
   ]
  },
  {
   "cell_type": "code",
   "execution_count": 12,
   "id": "10a33498",
   "metadata": {},
   "outputs": [
    {
     "name": "stdout",
     "output_type": "stream",
     "text": [
      "Review #0, Sentiment: positive \n",
      "\n",
      "Review #1, Sentiment: positive \n",
      "\n",
      "Review #2, Sentiment: positive \n",
      "\n",
      "Review #3, Sentiment: positive \n",
      "\n",
      "Review #4, Sentiment: negative \n",
      "\n",
      "Review #5, Sentiment: positive \n",
      "\n",
      "Review #6, Sentiment: positive \n",
      "\n",
      "Review #7, Sentiment: positive \n",
      "\n",
      "Review #8, Sentiment: positive \n",
      "\n",
      "Review #9, Sentiment: negative \n",
      "\n"
     ]
    }
   ],
   "source": [
    "reviews = []\n",
    "sentiments = []\n",
    "for i in range(0, 10):\n",
    "    review = df['reviewer_text'][i]\n",
    "\n",
    "    prompt = f\"\"\"\n",
    "    What is the sentiment of the following hotel review, which is delimited with triple backticks?\n",
    "\n",
    "    Give your answer as a single word, either \"positive\" or \"negative\".\n",
    "\n",
    "    Review text: ```{review}```\n",
    "    \"\"\"\n",
    "    response = get_completion(prompt)\n",
    "\n",
    "    reviews.append(review)\n",
    "    sentiments.append(response)\n",
    "    time.sleep(1)\n",
    "    print(f'Review #{i}, Sentiment: {response} \\n')"
   ]
  },
  {
   "cell_type": "markdown",
   "id": "e1ca6719",
   "metadata": {},
   "source": [
    "### 1.3. Create a dataframe with sentiment analysis results and export the dataframe to a CSV file"
   ]
  },
  {
   "cell_type": "code",
   "execution_count": 13,
   "id": "98db08e0",
   "metadata": {},
   "outputs": [
    {
     "data": {
      "text/html": [
       "<div>\n",
       "<style scoped>\n",
       "    .dataframe tbody tr th:only-of-type {\n",
       "        vertical-align: middle;\n",
       "    }\n",
       "\n",
       "    .dataframe tbody tr th {\n",
       "        vertical-align: top;\n",
       "    }\n",
       "\n",
       "    .dataframe thead th {\n",
       "        text-align: right;\n",
       "    }\n",
       "</style>\n",
       "<table border=\"1\" class=\"dataframe\">\n",
       "  <thead>\n",
       "    <tr style=\"text-align: right;\">\n",
       "      <th></th>\n",
       "      <th>review</th>\n",
       "      <th>sentiment</th>\n",
       "    </tr>\n",
       "  </thead>\n",
       "  <tbody>\n",
       "    <tr>\n",
       "      <th>0</th>\n",
       "      <td>What a classy and unique hotel! It’s been reno...</td>\n",
       "      <td>positive</td>\n",
       "    </tr>\n",
       "    <tr>\n",
       "      <th>1</th>\n",
       "      <td>The hotel is at a great location to easily wal...</td>\n",
       "      <td>positive</td>\n",
       "    </tr>\n",
       "    <tr>\n",
       "      <th>2</th>\n",
       "      <td>We had a guest room block at the Surety for ou...</td>\n",
       "      <td>positive</td>\n",
       "    </tr>\n",
       "    <tr>\n",
       "      <th>3</th>\n",
       "      <td>Excellent venue for our son’s wedding! Rooms w...</td>\n",
       "      <td>positive</td>\n",
       "    </tr>\n",
       "    <tr>\n",
       "      <th>4</th>\n",
       "      <td>We had a broken sink and parking issues that t...</td>\n",
       "      <td>negative</td>\n",
       "    </tr>\n",
       "    <tr>\n",
       "      <th>5</th>\n",
       "      <td>We had planned a quick get away and the Surety...</td>\n",
       "      <td>positive</td>\n",
       "    </tr>\n",
       "    <tr>\n",
       "      <th>6</th>\n",
       "      <td>Fantastic hotel, good location, friendly staff...</td>\n",
       "      <td>positive</td>\n",
       "    </tr>\n",
       "    <tr>\n",
       "      <th>7</th>\n",
       "      <td>Good time, friendly bartenders, and staff. Cle...</td>\n",
       "      <td>positive</td>\n",
       "    </tr>\n",
       "    <tr>\n",
       "      <th>8</th>\n",
       "      <td>Hotel Surety is located at a walkable distance...</td>\n",
       "      <td>positive</td>\n",
       "    </tr>\n",
       "    <tr>\n",
       "      <th>9</th>\n",
       "      <td>The lighting situation was horribleThey are ru...</td>\n",
       "      <td>negative</td>\n",
       "    </tr>\n",
       "  </tbody>\n",
       "</table>\n",
       "</div>"
      ],
      "text/plain": [
       "                                              review sentiment\n",
       "0  What a classy and unique hotel! It’s been reno...  positive\n",
       "1  The hotel is at a great location to easily wal...  positive\n",
       "2  We had a guest room block at the Surety for ou...  positive\n",
       "3  Excellent venue for our son’s wedding! Rooms w...  positive\n",
       "4  We had a broken sink and parking issues that t...  negative\n",
       "5  We had planned a quick get away and the Surety...  positive\n",
       "6  Fantastic hotel, good location, friendly staff...  positive\n",
       "7  Good time, friendly bartenders, and staff. Cle...  positive\n",
       "8  Hotel Surety is located at a walkable distance...  positive\n",
       "9  The lighting situation was horribleThey are ru...  negative"
      ]
     },
     "execution_count": 13,
     "metadata": {},
     "output_type": "execute_result"
    }
   ],
   "source": [
    "df_sent = pd.DataFrame({\"review\": reviews, \"sentiment\": sentiments})\n",
    "df_sent"
   ]
  },
  {
   "cell_type": "code",
   "execution_count": 14,
   "id": "e77193ce",
   "metadata": {},
   "outputs": [],
   "source": [
    "df_sent.to_csv('/Users/sheng/Jupyter/Chico_Demo/SentimentExamples.csv')"
   ]
  },
  {
   "cell_type": "code",
   "execution_count": null,
   "id": "e2e074cb",
   "metadata": {},
   "outputs": [],
   "source": []
  },
  {
   "cell_type": "markdown",
   "id": "a5ae8ebb",
   "metadata": {},
   "source": [
    "# **LLMs for Business Analytics**\n",
    "\n",
    "## **2. Identification of Emotions**\n",
    "- **\"Joy\", \"Sadness\", \"Anger\", \"Fear\", \"Trust\", \"Disgust\", \"Anticipation\", \"Surprise\"**\n",
    "\n",
    "### **How can identification of emotions be applied for business analytics?**\n",
    "- Identify consumer emotions from online reviews on social media platforms (Twitter (X), Facebook, Yelp, TripAdvisor)\n",
    "- Provide deep insights into consumer preferences and responses:\n",
    "  - Trust → Loyalty\n",
    "  - Fear → Safety-related products\n",
    "  - Anticipation → Consumer-designed product features\n"
   ]
  },
  {
   "cell_type": "markdown",
   "id": "bd879dcd",
   "metadata": {},
   "source": [
    "### 2.1. Without specific emotions"
   ]
  },
  {
   "cell_type": "code",
   "execution_count": 15,
   "id": "3e9bd224",
   "metadata": {},
   "outputs": [
    {
     "name": "stdout",
     "output_type": "stream",
     "text": [
      "excitement, satisfaction, appreciation, comfort, enjoyment\n"
     ]
    }
   ],
   "source": [
    "prompt = f\"\"\"\n",
    "Identify a list of emotions that the writer of the following review is expressing. \n",
    "Include no more than five items in the list. \n",
    "Format your answer as a list of lower-case words separated by commas.\n",
    "\n",
    "Review text: '''{hotel_review}'''\n",
    "\"\"\"\n",
    "response = get_completion(prompt)\n",
    "print(response)"
   ]
  },
  {
   "cell_type": "markdown",
   "id": "faeeafcd",
   "metadata": {},
   "source": [
    "### 2.2. Identify anger"
   ]
  },
  {
   "cell_type": "code",
   "execution_count": 16,
   "id": "787cac8e",
   "metadata": {},
   "outputs": [
    {
     "name": "stdout",
     "output_type": "stream",
     "text": [
      "No\n"
     ]
    }
   ],
   "source": [
    "prompt = f\"\"\"\n",
    "Is the writer of the following review expressing anger?\n",
    "The review is delimited with triple backticks. \n",
    "Give your answer as either yes or no.\n",
    "\n",
    "Review text: '''{hotel_review}'''\n",
    "\"\"\"\n",
    "response = get_completion(prompt)\n",
    "print(response)"
   ]
  },
  {
   "cell_type": "markdown",
   "id": "be19f7cc",
   "metadata": {},
   "source": [
    "### 2.3. Eight Emotions"
   ]
  },
  {
   "cell_type": "code",
   "execution_count": 17,
   "id": "7ddfd7d0",
   "metadata": {},
   "outputs": [
    {
     "name": "stdout",
     "output_type": "stream",
     "text": [
      "joy\n"
     ]
    }
   ],
   "source": [
    "prompt = f\"\"\"\n",
    "\n",
    "Your task is to classify a piece of text into the following emotion labels: “joy”, “sadness”, “anger”, “fear”, “trust”, “disgust”, “anticipation”, “surprise”. \\\n",
    "\n",
    "The review is delimited with triple backticks. \n",
    "\n",
    "Give your answer as a single word from one of the eight emotions.\n",
    "\n",
    "Review text: '''{hotel_review}'''\n",
    "\"\"\"\n",
    "response = get_completion(prompt)\n",
    "print(response)\n"
   ]
  },
  {
   "cell_type": "markdown",
   "id": "23ce1237",
   "metadata": {},
   "source": [
    "### 2.4. Identification of emotions for multiple reviews using 'for loop' function\n",
    "- e.g., 10 reviews"
   ]
  },
  {
   "cell_type": "code",
   "execution_count": 18,
   "id": "87f53f35",
   "metadata": {},
   "outputs": [
    {
     "name": "stdout",
     "output_type": "stream",
     "text": [
      "Review #0, Emotion: joy \n",
      "\n",
      "Review #1, Emotion: joy \n",
      "\n",
      "Review #2, Emotion: joy \n",
      "\n",
      "Review #3, Emotion: joy \n",
      "\n",
      "Review #4, Emotion: sadness \n",
      "\n",
      "Review #5, Emotion: joy \n",
      "\n",
      "Review #6, Emotion: joy \n",
      "\n",
      "Review #7, Emotion: joy \n",
      "\n",
      "Review #8, Emotion: joy \n",
      "\n",
      "Review #9, Emotion: disgust \n",
      "\n"
     ]
    }
   ],
   "source": [
    "emotions = []\n",
    "for i in range(0, 10):\n",
    "    review = df['reviewer_text'][i]\n",
    "\n",
    "    prompt = f\"\"\"\n",
    "    Your task is to classify a piece of text into the following emotion labels: “joy”, “sadness”, “anger”, “fear”, “trust”, “disgust”, “anticipation”, “surprise”. \n",
    "\n",
    "    The review is delimited with triple backticks. \n",
    "\n",
    "    Give your answer as a single word from one of the eight emotions.\n",
    "\n",
    "    Review text: ```{review}```\n",
    "    \"\"\"\n",
    "    response = get_completion(prompt)\n",
    "\n",
    "    emotions.append(response)\n",
    "    time.sleep(1)\n",
    "    print(f'Review #{i}, Emotion: {response} \\n')"
   ]
  },
  {
   "cell_type": "markdown",
   "id": "8351c45f",
   "metadata": {},
   "source": [
    "### 2.5. Create a dataframe with sentiment analysis results and export the dataframe to a CSV file"
   ]
  },
  {
   "cell_type": "code",
   "execution_count": 19,
   "id": "f61f5567",
   "metadata": {},
   "outputs": [
    {
     "data": {
      "text/html": [
       "<div>\n",
       "<style scoped>\n",
       "    .dataframe tbody tr th:only-of-type {\n",
       "        vertical-align: middle;\n",
       "    }\n",
       "\n",
       "    .dataframe tbody tr th {\n",
       "        vertical-align: top;\n",
       "    }\n",
       "\n",
       "    .dataframe thead th {\n",
       "        text-align: right;\n",
       "    }\n",
       "</style>\n",
       "<table border=\"1\" class=\"dataframe\">\n",
       "  <thead>\n",
       "    <tr style=\"text-align: right;\">\n",
       "      <th></th>\n",
       "      <th>review</th>\n",
       "      <th>sentiment</th>\n",
       "      <th>emotion</th>\n",
       "    </tr>\n",
       "  </thead>\n",
       "  <tbody>\n",
       "    <tr>\n",
       "      <th>0</th>\n",
       "      <td>What a classy and unique hotel! It’s been reno...</td>\n",
       "      <td>positive</td>\n",
       "      <td>joy</td>\n",
       "    </tr>\n",
       "    <tr>\n",
       "      <th>1</th>\n",
       "      <td>The hotel is at a great location to easily wal...</td>\n",
       "      <td>positive</td>\n",
       "      <td>joy</td>\n",
       "    </tr>\n",
       "    <tr>\n",
       "      <th>2</th>\n",
       "      <td>We had a guest room block at the Surety for ou...</td>\n",
       "      <td>positive</td>\n",
       "      <td>joy</td>\n",
       "    </tr>\n",
       "    <tr>\n",
       "      <th>3</th>\n",
       "      <td>Excellent venue for our son’s wedding! Rooms w...</td>\n",
       "      <td>positive</td>\n",
       "      <td>joy</td>\n",
       "    </tr>\n",
       "    <tr>\n",
       "      <th>4</th>\n",
       "      <td>We had a broken sink and parking issues that t...</td>\n",
       "      <td>negative</td>\n",
       "      <td>sadness</td>\n",
       "    </tr>\n",
       "    <tr>\n",
       "      <th>5</th>\n",
       "      <td>We had planned a quick get away and the Surety...</td>\n",
       "      <td>positive</td>\n",
       "      <td>joy</td>\n",
       "    </tr>\n",
       "    <tr>\n",
       "      <th>6</th>\n",
       "      <td>Fantastic hotel, good location, friendly staff...</td>\n",
       "      <td>positive</td>\n",
       "      <td>joy</td>\n",
       "    </tr>\n",
       "    <tr>\n",
       "      <th>7</th>\n",
       "      <td>Good time, friendly bartenders, and staff. Cle...</td>\n",
       "      <td>positive</td>\n",
       "      <td>joy</td>\n",
       "    </tr>\n",
       "    <tr>\n",
       "      <th>8</th>\n",
       "      <td>Hotel Surety is located at a walkable distance...</td>\n",
       "      <td>positive</td>\n",
       "      <td>joy</td>\n",
       "    </tr>\n",
       "    <tr>\n",
       "      <th>9</th>\n",
       "      <td>The lighting situation was horribleThey are ru...</td>\n",
       "      <td>negative</td>\n",
       "      <td>disgust</td>\n",
       "    </tr>\n",
       "  </tbody>\n",
       "</table>\n",
       "</div>"
      ],
      "text/plain": [
       "                                              review sentiment  emotion\n",
       "0  What a classy and unique hotel! It’s been reno...  positive      joy\n",
       "1  The hotel is at a great location to easily wal...  positive      joy\n",
       "2  We had a guest room block at the Surety for ou...  positive      joy\n",
       "3  Excellent venue for our son’s wedding! Rooms w...  positive      joy\n",
       "4  We had a broken sink and parking issues that t...  negative  sadness\n",
       "5  We had planned a quick get away and the Surety...  positive      joy\n",
       "6  Fantastic hotel, good location, friendly staff...  positive      joy\n",
       "7  Good time, friendly bartenders, and staff. Cle...  positive      joy\n",
       "8  Hotel Surety is located at a walkable distance...  positive      joy\n",
       "9  The lighting situation was horribleThey are ru...  negative  disgust"
      ]
     },
     "execution_count": 19,
     "metadata": {},
     "output_type": "execute_result"
    }
   ],
   "source": [
    "df_sent_emo = pd.DataFrame({\"review\": reviews, \"sentiment\": sentiments, \"emotion\": emotions})\n",
    "df_sent_emo"
   ]
  },
  {
   "cell_type": "code",
   "execution_count": 20,
   "id": "d88506fb",
   "metadata": {},
   "outputs": [],
   "source": [
    "df_sent_emo.to_csv('/Users/sheng/Jupyter/Chico_Demo/Sentiment_Emotions_Examples.csv')"
   ]
  },
  {
   "cell_type": "code",
   "execution_count": null,
   "id": "eb367368",
   "metadata": {},
   "outputs": [],
   "source": []
  },
  {
   "cell_type": "code",
   "execution_count": null,
   "id": "18e229ba",
   "metadata": {},
   "outputs": [],
   "source": []
  },
  {
   "cell_type": "code",
   "execution_count": null,
   "id": "d3685726",
   "metadata": {},
   "outputs": [],
   "source": []
  },
  {
   "cell_type": "code",
   "execution_count": null,
   "id": "d6d009e5",
   "metadata": {},
   "outputs": [],
   "source": []
  },
  {
   "cell_type": "code",
   "execution_count": null,
   "id": "02eaf563",
   "metadata": {},
   "outputs": [],
   "source": []
  },
  {
   "cell_type": "code",
   "execution_count": null,
   "id": "80f97107",
   "metadata": {},
   "outputs": [],
   "source": []
  },
  {
   "cell_type": "code",
   "execution_count": null,
   "id": "3a9f1fd6",
   "metadata": {},
   "outputs": [],
   "source": []
  },
  {
   "cell_type": "code",
   "execution_count": null,
   "id": "2af6d739",
   "metadata": {},
   "outputs": [],
   "source": []
  },
  {
   "cell_type": "markdown",
   "id": "91767945",
   "metadata": {},
   "source": [
    "## 3. Improving GenAI Performance\n",
    "- Chain-of-Thought (CoT)\n",
    "- Self-Reflection (SR)"
   ]
  },
  {
   "cell_type": "code",
   "execution_count": 21,
   "id": "5e532fe1",
   "metadata": {},
   "outputs": [],
   "source": [
    "# GPT 4.0o\n",
    "def get_completion_4_0(prompt, model=\"gpt-4o-2024-05-13\"):   # used in 04/24/2024\n",
    "    messages = [{\"role\": \"user\", \"content\": prompt}]\n",
    "    response = openai.chat.completions.create(\n",
    "        model=model,\n",
    "        messages=messages,\n",
    "        temperature=0, # this is the degree of randomness of the model's output\n",
    "    )\n",
    "    return response.choices[0].message.content"
   ]
  },
  {
   "cell_type": "code",
   "execution_count": 23,
   "id": "2ad28fdb",
   "metadata": {},
   "outputs": [],
   "source": [
    "def generate_prompt_CoT(text):\n",
    "    \n",
    "    delimiter = \"####\"    \n",
    "    \n",
    "    return f\"\"\"\n",
    "    Follow these steps to determine the sentiment of the following hotel review, which is delimited with triple backticks.\n",
    "\n",
    "    Review text: ```{text}```\n",
    "    \n",
    "    Step 1{delimiter} Assign an initial sentiment score ranging from 1 to 10, where 1 indicates very negative, and 10 means very positive. \n",
    "    - Pay attention to whether the review directly mentions overall satisfaction (e.g., \"overall,\" \"in general,\" or any statements indicating overall experience). \n",
    "    - If overall satisfaction is explicitly mentioned, weight it more heavily when determining the score.\n",
    "    \n",
    "    Step 2{delimiter} Label the review as positive if the initial sentiment score is 6 or greater, and negative if it is 5 or lower.\n",
    "    \n",
    "    Step 3{delimiter} Reflect on your responses from steps 1 and 2 and evaluate your confidence in the final label.    \n",
    "    - If confident, briefly explain how you arrived at this conclusion, especially considering the overall satisfaction of the review.\n",
    "    - If not confident, state that you are unsure and label the review as \"unsure.\"\n",
    "\n",
    "    Use the following format for your output:\n",
    "    Step 1{delimiter} <step 1 reasoning>\n",
    "    Step 2{delimiter} <step 2 reasoning>\n",
    "    Step 3{delimiter} <step 3 reasoning>\n",
    "    Final decision{delimiter} <a single word: \"positive\", \"negative\", or \"unsure\">\n",
    "\n",
    "    Ensure to include {delimiter} to separate every step.\n",
    "    \"\"\"\n"
   ]
  },
  {
   "cell_type": "code",
   "execution_count": 24,
   "id": "77cc03dd",
   "metadata": {},
   "outputs": [],
   "source": [
    "df_CoT = df.copy()\n"
   ]
  },
  {
   "cell_type": "code",
   "execution_count": 25,
   "id": "6e235aeb",
   "metadata": {},
   "outputs": [
    {
     "name": "stdout",
     "output_type": "stream",
     "text": [
      "Review #0:\n",
      "Output:\n",
      "Step 1#### The review is overwhelmingly positive, mentioning several aspects of the hotel in a favorable light: \"classy and unique,\" \"renovated with lots of character,\" \"friendly and efficient service,\" \"wonderfully comfortable bed & pillows,\" and \"easy walking distance to the Pappajohn Sculpture Park.\" The exclamation marks and the phrase \"Great hotel!!\" further emphasize the positive sentiment. Given these points, I would assign an initial sentiment score of 10.\n",
      "\n",
      "Step 2#### Since the initial sentiment score is 10, which is greater than 6, the review is labeled as positive.\n",
      "\n",
      "Step 3#### I am confident in this conclusion because the review explicitly mentions overall satisfaction with phrases like \"Great hotel!!\" and provides specific positive details about various aspects of the hotel experience. The tone and content of the review leave little room for ambiguity.\n",
      "\n",
      "Final decision#### positive \n",
      "\n",
      "\n",
      "Review #1:\n",
      "Output:\n",
      "Step 1#### The review mentions several positive aspects of the hotel, such as its great location, elegant interior, high-scale feel, and warm and knowledgeable staff. There is no explicit mention of overall satisfaction, but the tone and specific praises suggest a very positive experience. Based on these observations, I would assign an initial sentiment score of 9.\n",
      "\n",
      "Step 2#### Since the initial sentiment score is 9, which is greater than 6, the review should be labeled as positive.\n",
      "\n",
      "Step 3#### I am confident in this conclusion because the review consistently highlights positive attributes of the hotel without mentioning any negative aspects. The detailed praise for the location, interior design, and staff strongly indicates a positive overall experience.\n",
      "\n",
      "Final decision#### positive \n",
      "\n",
      "\n",
      "Review #2:\n",
      "Output:\n",
      "Step 1#### The review is overwhelmingly positive, mentioning that all guests loved their rooms, the couple had the most beautiful room, and the staff provided excellent service by delivering welcome bags, flowers, and treats. The review also ends with a strong statement of intent to return for a staycation. Given these points, I would assign an initial sentiment score of 10.\n",
      "\n",
      "Step 2#### Since the initial sentiment score is 10, which is greater than 6, the review should be labeled as positive.\n",
      "\n",
      "Step 3#### I am confident in this label because the review consistently highlights positive experiences and satisfaction with the hotel. The mention of returning for a staycation further reinforces the overall positive sentiment.\n",
      "\n",
      "Final decision#### positive \n",
      "\n",
      "\n",
      "Review #3:\n",
      "Output:\n",
      "Step 1#### The review text is overwhelmingly positive, mentioning \"Excellent venue,\" \"Rooms were excellent,\" \"well organized,\" \"food and beverage very good,\" and \"highly recommend.\" The reviewer also expresses gratitude with \"Thanks.\" These statements indicate a high level of satisfaction. Given the consistent positive language and explicit recommendation, I would assign an initial sentiment score of 10.\n",
      "\n",
      "Step 2#### Since the initial sentiment score is 10, which is greater than 6, the review should be labeled as positive.\n",
      "\n",
      "Step 3#### I am confident in this conclusion because the review contains multiple positive descriptors and an explicit recommendation, indicating a very positive overall experience. The use of words like \"excellent\" and \"highly recommend\" strongly supports this sentiment.\n",
      "\n",
      "Final decision#### positive \n",
      "\n",
      "\n",
      "Review #4:\n",
      "Output:\n",
      "Step 1#### The review mentions several negative aspects: a broken sink, parking issues, and the hotel not resolving these problems. Additionally, it states that the hotel fell way below expectations and criticizes the hotel's attempt to advertise a certain class and standard, which it fails to meet. There is no mention of any positive experiences or overall satisfaction. Based on these points, I would assign an initial sentiment score of 2.\n",
      "\n",
      "Step 2#### Since the initial sentiment score is 2, which is 5 or lower, the review is labeled as negative.\n",
      "\n",
      "Step 3#### I am confident in this conclusion because the review explicitly mentions multiple negative experiences and clearly states that the hotel fell below expectations. There is no indication of any positive aspects or overall satisfaction.\n",
      "\n",
      "Final decision#### negative \n",
      "\n",
      "\n"
     ]
    }
   ],
   "source": [
    "# CoT results: first 5 reviews\n",
    "sent_GPT4_CoT = []\n",
    "num_examples = 5\n",
    "for i in range(0, num_examples): \n",
    "    \n",
    "    prompt = generate_prompt_CoT(df_CoT['reviewer_text'][i])\n",
    "    \n",
    "    response = get_completion_4_0(prompt)\n",
    "    \n",
    "    sent_GPT4_CoT.append(response)\n",
    "    \n",
    "    time.sleep(1)\n",
    "    print(f'Review #{i}:\\nOutput:\\n{response} \\n\\n')"
   ]
  },
  {
   "cell_type": "code",
   "execution_count": 26,
   "id": "98682f5e",
   "metadata": {},
   "outputs": [
    {
     "name": "stdout",
     "output_type": "stream",
     "text": [
      "positive\n",
      "positive\n",
      "positive\n",
      "positive\n",
      "negative\n"
     ]
    }
   ],
   "source": [
    "# Output with single word\n",
    "delimiter = \"####\"    \n",
    "final_responses = []\n",
    "for i in sent_GPT4_CoT:\n",
    "    try:\n",
    "        final_response = i.split(delimiter)[-1].strip()\n",
    "    except Exception as e:\n",
    "        final_response = \"No final decision\"\n",
    "\n",
    "    print(final_response)\n",
    "    final_responses.append(final_response)"
   ]
  },
  {
   "cell_type": "code",
   "execution_count": 27,
   "id": "007cdcd2",
   "metadata": {},
   "outputs": [
    {
     "data": {
      "image/png": "[encoded data removed]",
      "text/plain": [
       "<Figure size 1000x700 with 2 Axes>"
      ]
     },
     "metadata": {},
     "output_type": "display_data"
    },
    {
     "name": "stdout",
     "output_type": "stream",
     "text": [
      "              precision    recall  f1-score   support\n",
      "\n",
      "    negative     0.8661    0.9916    0.9246      1305\n",
      "    positive     0.9972    0.9508    0.9734      4103\n",
      "      unsure     0.0000    0.0000    0.0000         0\n",
      "\n",
      "    accuracy                         0.9606      5408\n",
      "   macro avg     0.6211    0.6474    0.6327      5408\n",
      "weighted avg     0.9656    0.9606    0.9616      5408\n",
      "\n"
     ]
    },
    {
     "name": "stderr",
     "output_type": "stream",
     "text": [
      "/Users/sheng/anaconda3/lib/python3.11/site-packages/sklearn/metrics/_classification.py:1469: UndefinedMetricWarning: Recall and F-score are ill-defined and being set to 0.0 in labels with no true samples. Use `zero_division` parameter to control this behavior.\n",
      "  _warn_prf(average, modifier, msg_start, len(result))\n",
      "/Users/sheng/anaconda3/lib/python3.11/site-packages/sklearn/metrics/_classification.py:1469: UndefinedMetricWarning: Recall and F-score are ill-defined and being set to 0.0 in labels with no true samples. Use `zero_division` parameter to control this behavior.\n",
      "  _warn_prf(average, modifier, msg_start, len(result))\n",
      "/Users/sheng/anaconda3/lib/python3.11/site-packages/sklearn/metrics/_classification.py:1469: UndefinedMetricWarning: Recall and F-score are ill-defined and being set to 0.0 in labels with no true samples. Use `zero_division` parameter to control this behavior.\n",
      "  _warn_prf(average, modifier, msg_start, len(result))\n"
     ]
    }
   ],
   "source": [
    "# Confusion matrix\n",
    "conf_matrix = confusion_matrix(df_CoT['sentiment_ground_truth'], df_CoT['sent_GPT4_Weighting'])       #(y, y_pred)\n",
    "plt.figure(figsize=(10, 7))\n",
    "sns.heatmap(conf_matrix, annot=True, fmt='g', cmap='Blues')\n",
    "# plt.title('Confusion Matrix', fontsize=18)\n",
    "plt.xlabel('GPT4 weighting CoT + SR', fontsize=14)\n",
    "plt.ylabel('Ground Truth Labels', fontsize=14)\n",
    "plt.xticks(fontsize=14)  \n",
    "plt.yticks(fontsize=14)\n",
    "# plt.savefig(\"/Users/sheng/Downloads/GPT_CM.png\")\n",
    "plt.show()\n",
    "\n",
    "report = classification_report(df_CoT['sentiment_ground_truth'], df_CoT['sent_GPT4_Weighting'], digits=4)\n",
    "print(report)"
   ]
  },
  {
   "cell_type": "markdown",
   "id": "05c782e3",
   "metadata": {},
   "source": [
    "### Analyze 'unsure' reviews"
   ]
  },
  {
   "cell_type": "code",
   "execution_count": 28,
   "id": "ff5ac7f1",
   "metadata": {},
   "outputs": [],
   "source": [
    "df_CoT_Unsure = df_CoT[df_CoT['sent_GPT4_Weighting'] == 'unsure']"
   ]
  },
  {
   "cell_type": "code",
   "execution_count": 29,
   "id": "8dd35f52",
   "metadata": {},
   "outputs": [
    {
     "name": "stdout",
     "output_type": "stream",
     "text": [
      "Step 1#### The review text provided does not directly mention the hotel experience or overall satisfaction with the stay. Instead, it focuses on a personal anecdote about shoes and a memory involving the reviewer's mother. Given the lack of direct information about the hotel experience, it is challenging to assign a sentiment score based on the provided text. Therefore, I would assign an initial sentiment score of 5, as it is neutral and does not provide enough context to lean towards either positive or negative.\n",
      "\n",
      "Step 2#### Based on the initial sentiment score of 5, the review would be labeled as negative according to the given criteria.\n",
      "\n",
      "Step 3#### I am not confident in the final label because the review does not provide any information about the hotel experience. The text is more of a personal story rather than a review of the hotel. Therefore, it is difficult to determine the sentiment accurately.\n",
      "\n",
      "Final decision#### unsure\n"
     ]
    }
   ],
   "source": [
    "print(df_CoT_Unsure['sent_GPT4_reasonings'][726])"
   ]
  },
  {
   "cell_type": "code",
   "execution_count": 30,
   "id": "f93bdcd2",
   "metadata": {},
   "outputs": [
    {
     "name": "stdout",
     "output_type": "stream",
     "text": [
      "Momma said you can tell a lot by a persons shoes, \"where their going and where they been.\" I don't remember my first birthday but I do remember my first pair of shoes. Momma said they would make me straight as an arrow. Those were my special shoes...\n"
     ]
    }
   ],
   "source": [
    "print(df_CoT_Unsure['reviewer_text'][726])"
   ]
  },
  {
   "cell_type": "code",
   "execution_count": null,
   "id": "730321ab",
   "metadata": {},
   "outputs": [],
   "source": [
    "# print(df_CoT_Unsure['sent_GPT4_reasonings'][1594])"
   ]
  },
  {
   "cell_type": "code",
   "execution_count": null,
   "id": "bbbd7c01",
   "metadata": {},
   "outputs": [],
   "source": [
    "# print(df_CoT_Unsure['reviewer_text'][1594])\n"
   ]
  },
  {
   "cell_type": "code",
   "execution_count": null,
   "id": "506b4819",
   "metadata": {},
   "outputs": [],
   "source": []
  },
  {
   "cell_type": "code",
   "execution_count": 31,
   "id": "d9eecc98",
   "metadata": {},
   "outputs": [],
   "source": [
    "df_CoT_NoUnsure = df_CoT[df_CoT['sent_GPT4_Weighting'] != 'unsure']"
   ]
  },
  {
   "cell_type": "code",
   "execution_count": 32,
   "id": "1a1c4a30",
   "metadata": {},
   "outputs": [
    {
     "data": {
      "image/png": "[encoded data removed]",
      "text/plain": [
       "<Figure size 1000x700 with 2 Axes>"
      ]
     },
     "metadata": {},
     "output_type": "display_data"
    },
    {
     "name": "stdout",
     "output_type": "stream",
     "text": [
      "              precision    recall  f1-score   support\n",
      "\n",
      "    negative     0.8661    0.9916    0.9246      1305\n",
      "    positive     0.9972    0.9512    0.9737      4101\n",
      "\n",
      "    accuracy                         0.9610      5406\n",
      "   macro avg     0.9317    0.9714    0.9491      5406\n",
      "weighted avg     0.9656    0.9610    0.9618      5406\n",
      "\n"
     ]
    }
   ],
   "source": [
    "# Confusion matrix\n",
    "conf_matrix = confusion_matrix(df_CoT_NoUnsure['sentiment_ground_truth'], df_CoT_NoUnsure['sent_GPT4_Weighting'])       #(y, y_pred)\n",
    "plt.figure(figsize=(10, 7))\n",
    "sns.heatmap(conf_matrix, annot=True, fmt='g', cmap='Blues')\n",
    "# plt.title('Confusion Matrix', fontsize=18)\n",
    "plt.xlabel('GPT4 weighting CoT + SR', fontsize=14)\n",
    "plt.ylabel('Ground Truth Labels', fontsize=14)\n",
    "plt.xticks(fontsize=14)  \n",
    "plt.yticks(fontsize=14)\n",
    "# plt.savefig(\"/Users/sheng/Downloads/GPT_CM.png\")\n",
    "plt.show()\n",
    "\n",
    "report = classification_report(df_CoT_NoUnsure['sentiment_ground_truth'], df_CoT_NoUnsure['sent_GPT4_Weighting'], digits=4)\n",
    "print(report)"
   ]
  },
  {
   "cell_type": "markdown",
   "id": "d08d6df5",
   "metadata": {},
   "source": [
    "## CoT and SR for GPT4 significantly increased accuracy from 87% to 96%."
   ]
  }
 ],
 "metadata": {
  "colab": {
   "provenance": []
  },
  "kernelspec": {
   "display_name": "base",
   "language": "python",
   "name": "python3"
  },
  "language_info": {
   "codemirror_mode": {
    "name": "ipython",
    "version": 3
   },
   "file_extension": ".py",
   "mimetype": "text/x-python",
   "name": "python",
   "nbconvert_exporter": "python",
   "pygments_lexer": "ipython3",
   "version": "3.11.5"
  }
 },
 "nbformat": 4,
 "nbformat_minor": 5
}
